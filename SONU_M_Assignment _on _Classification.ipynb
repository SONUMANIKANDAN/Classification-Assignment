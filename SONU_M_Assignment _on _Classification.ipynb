{
 "cells": [
  {
   "cell_type": "markdown",
   "id": "a85ab46b",
   "metadata": {},
   "source": [
    "# Assignment on Classification\n"
   ]
  },
  {
   "cell_type": "markdown",
   "id": "c2d7a48b",
   "metadata": {},
   "source": [
    "## Importing the python libraries"
   ]
  },
  {
   "cell_type": "code",
   "execution_count": 1,
   "id": "a9206f6a",
   "metadata": {},
   "outputs": [],
   "source": [
    "import pandas as pd\n",
    "import numpy as np\n",
    "import matplotlib.pyplot as plt\n",
    "import seaborn as sns\n",
    "import statistics as stat"
   ]
  },
  {
   "cell_type": "markdown",
   "id": "235f49d3",
   "metadata": {},
   "source": [
    "## Loading dataset to python"
   ]
  },
  {
   "cell_type": "code",
   "execution_count": 2,
   "id": "fc9e9fb4",
   "metadata": {},
   "outputs": [],
   "source": [
    "data=pd.read_excel('iris_n.xls')"
   ]
  },
  {
   "cell_type": "markdown",
   "id": "f8837e82",
   "metadata": {},
   "source": [
    "## Checking the basic details of data set"
   ]
  },
  {
   "cell_type": "code",
   "execution_count": 3,
   "id": "7fefdfdd",
   "metadata": {},
   "outputs": [
    {
     "data": {
      "text/html": [
       "<div>\n",
       "<style scoped>\n",
       "    .dataframe tbody tr th:only-of-type {\n",
       "        vertical-align: middle;\n",
       "    }\n",
       "\n",
       "    .dataframe tbody tr th {\n",
       "        vertical-align: top;\n",
       "    }\n",
       "\n",
       "    .dataframe thead th {\n",
       "        text-align: right;\n",
       "    }\n",
       "</style>\n",
       "<table border=\"1\" class=\"dataframe\">\n",
       "  <thead>\n",
       "    <tr style=\"text-align: right;\">\n",
       "      <th></th>\n",
       "      <th>SL</th>\n",
       "      <th>SW</th>\n",
       "      <th>PL</th>\n",
       "      <th>PW</th>\n",
       "      <th>Classification</th>\n",
       "    </tr>\n",
       "  </thead>\n",
       "  <tbody>\n",
       "    <tr>\n",
       "      <th>0</th>\n",
       "      <td>5.1</td>\n",
       "      <td>3.5</td>\n",
       "      <td>1.4</td>\n",
       "      <td>0.2</td>\n",
       "      <td>Iris-setosa</td>\n",
       "    </tr>\n",
       "    <tr>\n",
       "      <th>1</th>\n",
       "      <td>4.9</td>\n",
       "      <td>3.0</td>\n",
       "      <td>1.4</td>\n",
       "      <td>0.2</td>\n",
       "      <td>Iris-setosa</td>\n",
       "    </tr>\n",
       "    <tr>\n",
       "      <th>2</th>\n",
       "      <td>NaN</td>\n",
       "      <td>3.2</td>\n",
       "      <td>1.3</td>\n",
       "      <td>0.2</td>\n",
       "      <td>Iris-setosa</td>\n",
       "    </tr>\n",
       "    <tr>\n",
       "      <th>3</th>\n",
       "      <td>4.6</td>\n",
       "      <td>3.1</td>\n",
       "      <td>1.5</td>\n",
       "      <td>0.2</td>\n",
       "      <td>Iris-setosa</td>\n",
       "    </tr>\n",
       "    <tr>\n",
       "      <th>4</th>\n",
       "      <td>5.0</td>\n",
       "      <td>3.6</td>\n",
       "      <td>1.4</td>\n",
       "      <td>0.2</td>\n",
       "      <td>Iris-setosa</td>\n",
       "    </tr>\n",
       "  </tbody>\n",
       "</table>\n",
       "</div>"
      ],
      "text/plain": [
       "    SL   SW   PL   PW Classification\n",
       "0  5.1  3.5  1.4  0.2    Iris-setosa\n",
       "1  4.9  3.0  1.4  0.2    Iris-setosa\n",
       "2  NaN  3.2  1.3  0.2    Iris-setosa\n",
       "3  4.6  3.1  1.5  0.2    Iris-setosa\n",
       "4  5.0  3.6  1.4  0.2    Iris-setosa"
      ]
     },
     "execution_count": 3,
     "metadata": {},
     "output_type": "execute_result"
    }
   ],
   "source": [
    "data.head()"
   ]
  },
  {
   "cell_type": "code",
   "execution_count": 4,
   "id": "3e3fe985",
   "metadata": {},
   "outputs": [
    {
     "data": {
      "text/plain": [
       "(150, 5)"
      ]
     },
     "execution_count": 4,
     "metadata": {},
     "output_type": "execute_result"
    }
   ],
   "source": [
    "data.shape"
   ]
  },
  {
   "cell_type": "code",
   "execution_count": 5,
   "id": "756aed9b",
   "metadata": {},
   "outputs": [
    {
     "name": "stdout",
     "output_type": "stream",
     "text": [
      "<class 'pandas.core.frame.DataFrame'>\n",
      "RangeIndex: 150 entries, 0 to 149\n",
      "Data columns (total 5 columns):\n",
      " #   Column          Non-Null Count  Dtype  \n",
      "---  ------          --------------  -----  \n",
      " 0   SL              143 non-null    float64\n",
      " 1   SW              144 non-null    float64\n",
      " 2   PL              144 non-null    float64\n",
      " 3   PW              150 non-null    float64\n",
      " 4   Classification  150 non-null    object \n",
      "dtypes: float64(4), object(1)\n",
      "memory usage: 6.0+ KB\n"
     ]
    }
   ],
   "source": [
    "data.info()"
   ]
  },
  {
   "cell_type": "code",
   "execution_count": 6,
   "id": "b6a565a3",
   "metadata": {},
   "outputs": [
    {
     "data": {
      "text/html": [
       "<div>\n",
       "<style scoped>\n",
       "    .dataframe tbody tr th:only-of-type {\n",
       "        vertical-align: middle;\n",
       "    }\n",
       "\n",
       "    .dataframe tbody tr th {\n",
       "        vertical-align: top;\n",
       "    }\n",
       "\n",
       "    .dataframe thead th {\n",
       "        text-align: right;\n",
       "    }\n",
       "</style>\n",
       "<table border=\"1\" class=\"dataframe\">\n",
       "  <thead>\n",
       "    <tr style=\"text-align: right;\">\n",
       "      <th></th>\n",
       "      <th>SL</th>\n",
       "      <th>SW</th>\n",
       "      <th>PL</th>\n",
       "      <th>PW</th>\n",
       "    </tr>\n",
       "  </thead>\n",
       "  <tbody>\n",
       "    <tr>\n",
       "      <th>count</th>\n",
       "      <td>143.000000</td>\n",
       "      <td>144.000000</td>\n",
       "      <td>144.000000</td>\n",
       "      <td>150.000000</td>\n",
       "    </tr>\n",
       "    <tr>\n",
       "      <th>mean</th>\n",
       "      <td>5.855944</td>\n",
       "      <td>3.049306</td>\n",
       "      <td>3.756250</td>\n",
       "      <td>1.198667</td>\n",
       "    </tr>\n",
       "    <tr>\n",
       "      <th>std</th>\n",
       "      <td>0.828168</td>\n",
       "      <td>0.430644</td>\n",
       "      <td>1.761306</td>\n",
       "      <td>0.763161</td>\n",
       "    </tr>\n",
       "    <tr>\n",
       "      <th>min</th>\n",
       "      <td>4.300000</td>\n",
       "      <td>2.000000</td>\n",
       "      <td>1.000000</td>\n",
       "      <td>0.100000</td>\n",
       "    </tr>\n",
       "    <tr>\n",
       "      <th>25%</th>\n",
       "      <td>5.100000</td>\n",
       "      <td>2.800000</td>\n",
       "      <td>1.600000</td>\n",
       "      <td>0.300000</td>\n",
       "    </tr>\n",
       "    <tr>\n",
       "      <th>50%</th>\n",
       "      <td>5.800000</td>\n",
       "      <td>3.000000</td>\n",
       "      <td>4.350000</td>\n",
       "      <td>1.300000</td>\n",
       "    </tr>\n",
       "    <tr>\n",
       "      <th>75%</th>\n",
       "      <td>6.400000</td>\n",
       "      <td>3.300000</td>\n",
       "      <td>5.100000</td>\n",
       "      <td>1.800000</td>\n",
       "    </tr>\n",
       "    <tr>\n",
       "      <th>max</th>\n",
       "      <td>7.900000</td>\n",
       "      <td>4.400000</td>\n",
       "      <td>6.900000</td>\n",
       "      <td>2.500000</td>\n",
       "    </tr>\n",
       "  </tbody>\n",
       "</table>\n",
       "</div>"
      ],
      "text/plain": [
       "               SL          SW          PL          PW\n",
       "count  143.000000  144.000000  144.000000  150.000000\n",
       "mean     5.855944    3.049306    3.756250    1.198667\n",
       "std      0.828168    0.430644    1.761306    0.763161\n",
       "min      4.300000    2.000000    1.000000    0.100000\n",
       "25%      5.100000    2.800000    1.600000    0.300000\n",
       "50%      5.800000    3.000000    4.350000    1.300000\n",
       "75%      6.400000    3.300000    5.100000    1.800000\n",
       "max      7.900000    4.400000    6.900000    2.500000"
      ]
     },
     "execution_count": 6,
     "metadata": {},
     "output_type": "execute_result"
    }
   ],
   "source": [
    "data.describe()"
   ]
  },
  {
   "cell_type": "markdown",
   "id": "ee950e3d",
   "metadata": {},
   "source": [
    "# Data Preprocessing"
   ]
  },
  {
   "cell_type": "markdown",
   "id": "5143ceb3",
   "metadata": {},
   "source": [
    "## Checking for null values in the dataset"
   ]
  },
  {
   "cell_type": "code",
   "execution_count": 7,
   "id": "0422cead",
   "metadata": {},
   "outputs": [
    {
     "data": {
      "text/plain": [
       "SL                7\n",
       "SW                6\n",
       "PL                6\n",
       "PW                0\n",
       "Classification    0\n",
       "dtype: int64"
      ]
     },
     "execution_count": 7,
     "metadata": {},
     "output_type": "execute_result"
    }
   ],
   "source": [
    "data.isnull().sum()"
   ]
  },
  {
   "cell_type": "markdown",
   "id": "3701147c",
   "metadata": {},
   "source": [
    "### Data set contains nullvalues so we have to fill it after finding the distribution"
   ]
  },
  {
   "cell_type": "markdown",
   "id": "4cc39b9a",
   "metadata": {},
   "source": [
    "## Finding the distribution of missing value columns"
   ]
  },
  {
   "cell_type": "code",
   "execution_count": 8,
   "id": "1364e738",
   "metadata": {},
   "outputs": [
    {
     "data": {
      "image/png": "[encoded data removed]",
      "text/plain": [
       "<Figure size 432x288 with 1 Axes>"
      ]
     },
     "metadata": {
      "needs_background": "light"
     },
     "output_type": "display_data"
    }
   ],
   "source": [
    "#Finding the distribution of Sepal Length Column\n",
    "plt.hist(data['SL'])\n",
    "plt.title('Distribution of Sepal Length')\n",
    "plt.show()"
   ]
  },
  {
   "cell_type": "code",
   "execution_count": 9,
   "id": "4bb7f0bd",
   "metadata": {},
   "outputs": [],
   "source": [
    "#Data is Right skewed so use median to fill the data"
   ]
  },
  {
   "cell_type": "code",
   "execution_count": 10,
   "id": "a28321ef",
   "metadata": {},
   "outputs": [
    {
     "data": {
      "text/plain": [
       "SL                0\n",
       "SW                6\n",
       "PL                6\n",
       "PW                0\n",
       "Classification    0\n",
       "dtype: int64"
      ]
     },
     "execution_count": 10,
     "metadata": {},
     "output_type": "execute_result"
    }
   ],
   "source": [
    "#filling the null values columns with Median\n",
    "data['SL'] = data['SL'].fillna(data['SL'].median())\n",
    "data.isna().sum()"
   ]
  },
  {
   "cell_type": "code",
   "execution_count": 11,
   "id": "d3aaaa85",
   "metadata": {},
   "outputs": [
    {
     "data": {
      "image/png": "[encoded data removed]",
      "text/plain": [
       "<Figure size 432x288 with 1 Axes>"
      ]
     },
     "metadata": {
      "needs_background": "light"
     },
     "output_type": "display_data"
    }
   ],
   "source": [
    "#Finding the Distribution of sepal width column\n",
    "plt.hist(data['SW'])\n",
    "plt.title('Distribution of Sepal Width')\n",
    "plt.show()"
   ]
  },
  {
   "cell_type": "code",
   "execution_count": 12,
   "id": "e865dca2",
   "metadata": {},
   "outputs": [],
   "source": [
    "#Data is uniformly distributed so use mean to fill the data"
   ]
  },
  {
   "cell_type": "code",
   "execution_count": 13,
   "id": "de86090f",
   "metadata": {},
   "outputs": [
    {
     "data": {
      "text/plain": [
       "SL                0\n",
       "SW                0\n",
       "PL                6\n",
       "PW                0\n",
       "Classification    0\n",
       "dtype: int64"
      ]
     },
     "execution_count": 13,
     "metadata": {},
     "output_type": "execute_result"
    }
   ],
   "source": [
    "# Filling sepal Width column with Mean\n",
    "data['SW'] = data['SW'].fillna(data['SW'].mean())\n",
    "data.isna().sum()"
   ]
  },
  {
   "cell_type": "code",
   "execution_count": 14,
   "id": "c75e1585",
   "metadata": {},
   "outputs": [
    {
     "data": {
      "image/png": "[encoded data removed]",
      "text/plain": [
       "<Figure size 432x288 with 1 Axes>"
      ]
     },
     "metadata": {
      "needs_background": "light"
     },
     "output_type": "display_data"
    }
   ],
   "source": [
    "#Finding the distribution of petal length Column\n",
    "plt.hist(data['PL'])\n",
    "plt.title('Distribution of Petal Length')\n",
    "plt.show()"
   ]
  },
  {
   "cell_type": "code",
   "execution_count": 15,
   "id": "9d392b21",
   "metadata": {},
   "outputs": [
    {
     "data": {
      "text/plain": [
       "SL                0\n",
       "SW                0\n",
       "PL                0\n",
       "PW                0\n",
       "Classification    0\n",
       "dtype: int64"
      ]
     },
     "execution_count": 15,
     "metadata": {},
     "output_type": "execute_result"
    }
   ],
   "source": [
    "# Filling petal length column with Median\n",
    "data['PL'] = data['PL'].fillna(data['PL'].median())\n",
    "data.isna().sum()"
   ]
  },
  {
   "cell_type": "markdown",
   "id": "0da7f32d",
   "metadata": {},
   "source": [
    "## All null values are filled in the dataset"
   ]
  },
  {
   "cell_type": "markdown",
   "id": "950a80d4",
   "metadata": {},
   "source": [
    "## Checking for Outliers"
   ]
  },
  {
   "cell_type": "markdown",
   "id": "f40ece0b",
   "metadata": {},
   "source": [
    "### Checking for outliers in Sepal Length Column"
   ]
  },
  {
   "cell_type": "code",
   "execution_count": 16,
   "id": "e6512abe",
   "metadata": {},
   "outputs": [
    {
     "data": {
      "image/png": "[encoded data removed]",
      "text/plain": [
       "<Figure size 432x288 with 1 Axes>"
      ]
     },
     "metadata": {
      "needs_background": "light"
     },
     "output_type": "display_data"
    }
   ],
   "source": [
    "plt.boxplot(data['SL'])\n",
    "plt.title('Sepal Length')\n",
    "plt.show()"
   ]
  },
  {
   "cell_type": "code",
   "execution_count": 17,
   "id": "84d712ea",
   "metadata": {},
   "outputs": [],
   "source": [
    "#NO ouliers in sepal length column"
   ]
  },
  {
   "cell_type": "markdown",
   "id": "7a073944",
   "metadata": {},
   "source": [
    "### Checking for outliers in Sepal Width column"
   ]
  },
  {
   "cell_type": "code",
   "execution_count": 18,
   "id": "ff3562c8",
   "metadata": {},
   "outputs": [
    {
     "data": {
      "image/png": "[encoded data removed]",
      "text/plain": [
       "<Figure size 432x288 with 1 Axes>"
      ]
     },
     "metadata": {
      "needs_background": "light"
     },
     "output_type": "display_data"
    }
   ],
   "source": [
    "plt.boxplot(data['SW'])\n",
    "plt.title('Sepal Width')\n",
    "plt.show()"
   ]
  },
  {
   "cell_type": "code",
   "execution_count": 19,
   "id": "710d5eb6",
   "metadata": {},
   "outputs": [],
   "source": [
    "#There are some ouliers in sepal width column"
   ]
  },
  {
   "cell_type": "code",
   "execution_count": 20,
   "id": "1af5e9c8",
   "metadata": {},
   "outputs": [],
   "source": [
    "#Using IQR method to find the indexes of the Outliers\n",
    "Qu1=np.percentile(data['SW'],25,interpolation='midpoint')\n",
    "Qu2=np.percentile(data['SW'],50,interpolation='midpoint')\n",
    "Qu3=np.percentile(data['SW'],75,interpolation='midpoint')"
   ]
  },
  {
   "cell_type": "code",
   "execution_count": 21,
   "id": "32d3ba41",
   "metadata": {},
   "outputs": [
    {
     "name": "stdout",
     "output_type": "stream",
     "text": [
      "2.8 3.0 3.25\n"
     ]
    }
   ],
   "source": [
    "print(Qu1,Qu2,Qu3)"
   ]
  },
  {
   "cell_type": "code",
   "execution_count": 22,
   "id": "c932e987",
   "metadata": {},
   "outputs": [
    {
     "data": {
      "text/plain": [
       "0.4500000000000002"
      ]
     },
     "execution_count": 22,
     "metadata": {},
     "output_type": "execute_result"
    }
   ],
   "source": [
    "iqr=Qu3-Qu1\n",
    "iqr"
   ]
  },
  {
   "cell_type": "code",
   "execution_count": 23,
   "id": "ce876bf1",
   "metadata": {},
   "outputs": [
    {
     "name": "stdout",
     "output_type": "stream",
     "text": [
      "2.1249999999999996 3.9250000000000003\n"
     ]
    }
   ],
   "source": [
    "low_limit=Qu1-1.5*iqr\n",
    "up_limit=Qu3+1.5*iqr\n",
    "print(low_limit,up_limit)"
   ]
  },
  {
   "cell_type": "code",
   "execution_count": 24,
   "id": "b5ddd2c5",
   "metadata": {},
   "outputs": [
    {
     "data": {
      "text/plain": [
       "5"
      ]
     },
     "execution_count": 24,
     "metadata": {},
     "output_type": "execute_result"
    }
   ],
   "source": [
    "outliers1=[]\n",
    "for i in data['SW']:\n",
    "    if(i>up_limit) or (i<low_limit):\n",
    "        outliers1.append(i)\n",
    "len(outliers1)"
   ]
  },
  {
   "cell_type": "code",
   "execution_count": 25,
   "id": "e782f291",
   "metadata": {},
   "outputs": [],
   "source": [
    "#There are totally five outliers in SW coloumn"
   ]
  },
  {
   "cell_type": "code",
   "execution_count": 26,
   "id": "4e1f2d5f",
   "metadata": {},
   "outputs": [
    {
     "data": {
      "text/plain": [
       "Int64Index([14, 15, 32, 33], dtype='int64')"
      ]
     },
     "execution_count": 26,
     "metadata": {},
     "output_type": "execute_result"
    }
   ],
   "source": [
    "ind1=data['SW']>up_limit\n",
    "data.loc[ind1].index"
   ]
  },
  {
   "cell_type": "code",
   "execution_count": 27,
   "id": "60ea9b31",
   "metadata": {},
   "outputs": [
    {
     "data": {
      "text/plain": [
       "Int64Index([60], dtype='int64')"
      ]
     },
     "execution_count": 27,
     "metadata": {},
     "output_type": "execute_result"
    }
   ],
   "source": [
    "ind2=data['SW']<low_limit\n",
    "data.loc[ind2].index"
   ]
  },
  {
   "cell_type": "markdown",
   "id": "bfba4bce",
   "metadata": {},
   "source": [
    "### As our data set is small we cannot drop the outlier columns"
   ]
  },
  {
   "cell_type": "markdown",
   "id": "aeff852c",
   "metadata": {},
   "source": [
    "### Checking for outliers in Petal Length column"
   ]
  },
  {
   "cell_type": "code",
   "execution_count": 28,
   "id": "15fa3ec2",
   "metadata": {},
   "outputs": [
    {
     "data": {
      "image/png": "[encoded data removed]",
      "text/plain": [
       "<Figure size 432x288 with 1 Axes>"
      ]
     },
     "metadata": {
      "needs_background": "light"
     },
     "output_type": "display_data"
    }
   ],
   "source": [
    "plt.boxplot(data['PL'])\n",
    "plt.title('Petal Length')\n",
    "plt.show()"
   ]
  },
  {
   "cell_type": "code",
   "execution_count": 29,
   "id": "228cf0e2",
   "metadata": {},
   "outputs": [],
   "source": [
    "##There are no ouliers in Petal length column"
   ]
  },
  {
   "cell_type": "code",
   "execution_count": 30,
   "id": "c33b8b31",
   "metadata": {},
   "outputs": [
    {
     "data": {
      "image/png": "[encoded data removed]",
      "text/plain": [
       "<Figure size 432x288 with 1 Axes>"
      ]
     },
     "metadata": {
      "needs_background": "light"
     },
     "output_type": "display_data"
    }
   ],
   "source": [
    "plt.boxplot(data['PW'])\n",
    "plt.title('Petal Width')\n",
    "plt.show()"
   ]
  },
  {
   "cell_type": "code",
   "execution_count": 31,
   "id": "9cc9158f",
   "metadata": {},
   "outputs": [],
   "source": [
    "##There are no ouliers in Petal Width column"
   ]
  },
  {
   "cell_type": "markdown",
   "id": "0c60f310",
   "metadata": {},
   "source": [
    "## All the missing values are filled and  preprocessing is completed"
   ]
  },
  {
   "cell_type": "markdown",
   "id": "bb6e0df2",
   "metadata": {},
   "source": [
    "***"
   ]
  },
  {
   "cell_type": "markdown",
   "id": "359dfbe5",
   "metadata": {},
   "source": [
    "# Checking for correlation in the data"
   ]
  },
  {
   "cell_type": "code",
   "execution_count": 32,
   "id": "c175f501",
   "metadata": {},
   "outputs": [],
   "source": [
    "corrmatrix=data.corr()"
   ]
  },
  {
   "cell_type": "code",
   "execution_count": 33,
   "id": "24a5deff",
   "metadata": {},
   "outputs": [
    {
     "data": {
      "image/png": "[encoded data removed]",
      "text/plain": [
       "<Figure size 576x288 with 2 Axes>"
      ]
     },
     "metadata": {
      "needs_background": "light"
     },
     "output_type": "display_data"
    }
   ],
   "source": [
    "plt.subplots(figsize=(8,4))\n",
    "sns.heatmap(corrmatrix,annot=True,vmin=-0.41,vmax=1,cmap='YlGnBu')\n",
    "plt.show()"
   ]
  },
  {
   "cell_type": "code",
   "execution_count": 34,
   "id": "68af2ba0",
   "metadata": {},
   "outputs": [],
   "source": [
    "# AS per correlation matrix maximum correlation value is obtained as 0.94 and minimum correaltion is abtained as -0.41 "
   ]
  },
  {
   "cell_type": "markdown",
   "id": "648aa0a1",
   "metadata": {},
   "source": [
    "***"
   ]
  },
  {
   "cell_type": "markdown",
   "id": "9e40c759",
   "metadata": {},
   "source": [
    "\n",
    "## Splitting the data into features and target"
   ]
  },
  {
   "cell_type": "code",
   "execution_count": 35,
   "id": "80b63bb2",
   "metadata": {},
   "outputs": [],
   "source": [
    "X=data.drop('Classification',axis=1)\n",
    "y=data['Classification']\n",
    "#Classification column is taken as target and SL,SW,PL and PW as Features"
   ]
  },
  {
   "cell_type": "code",
   "execution_count": 36,
   "id": "1aef0ee7",
   "metadata": {},
   "outputs": [
    {
     "data": {
      "text/html": [
       "<div>\n",
       "<style scoped>\n",
       "    .dataframe tbody tr th:only-of-type {\n",
       "        vertical-align: middle;\n",
       "    }\n",
       "\n",
       "    .dataframe tbody tr th {\n",
       "        vertical-align: top;\n",
       "    }\n",
       "\n",
       "    .dataframe thead th {\n",
       "        text-align: right;\n",
       "    }\n",
       "</style>\n",
       "<table border=\"1\" class=\"dataframe\">\n",
       "  <thead>\n",
       "    <tr style=\"text-align: right;\">\n",
       "      <th></th>\n",
       "      <th>SL</th>\n",
       "      <th>SW</th>\n",
       "      <th>PL</th>\n",
       "      <th>PW</th>\n",
       "    </tr>\n",
       "  </thead>\n",
       "  <tbody>\n",
       "    <tr>\n",
       "      <th>0</th>\n",
       "      <td>5.1</td>\n",
       "      <td>3.5</td>\n",
       "      <td>1.4</td>\n",
       "      <td>0.2</td>\n",
       "    </tr>\n",
       "    <tr>\n",
       "      <th>1</th>\n",
       "      <td>4.9</td>\n",
       "      <td>3.0</td>\n",
       "      <td>1.4</td>\n",
       "      <td>0.2</td>\n",
       "    </tr>\n",
       "    <tr>\n",
       "      <th>2</th>\n",
       "      <td>5.8</td>\n",
       "      <td>3.2</td>\n",
       "      <td>1.3</td>\n",
       "      <td>0.2</td>\n",
       "    </tr>\n",
       "    <tr>\n",
       "      <th>3</th>\n",
       "      <td>4.6</td>\n",
       "      <td>3.1</td>\n",
       "      <td>1.5</td>\n",
       "      <td>0.2</td>\n",
       "    </tr>\n",
       "    <tr>\n",
       "      <th>4</th>\n",
       "      <td>5.0</td>\n",
       "      <td>3.6</td>\n",
       "      <td>1.4</td>\n",
       "      <td>0.2</td>\n",
       "    </tr>\n",
       "  </tbody>\n",
       "</table>\n",
       "</div>"
      ],
      "text/plain": [
       "    SL   SW   PL   PW\n",
       "0  5.1  3.5  1.4  0.2\n",
       "1  4.9  3.0  1.4  0.2\n",
       "2  5.8  3.2  1.3  0.2\n",
       "3  4.6  3.1  1.5  0.2\n",
       "4  5.0  3.6  1.4  0.2"
      ]
     },
     "execution_count": 36,
     "metadata": {},
     "output_type": "execute_result"
    }
   ],
   "source": [
    "#features Data\n",
    "X.head()"
   ]
  },
  {
   "cell_type": "code",
   "execution_count": 37,
   "id": "42664a3c",
   "metadata": {},
   "outputs": [
    {
     "data": {
      "text/plain": [
       "0    Iris-setosa\n",
       "1    Iris-setosa\n",
       "2    Iris-setosa\n",
       "3    Iris-setosa\n",
       "4    Iris-setosa\n",
       "Name: Classification, dtype: object"
      ]
     },
     "execution_count": 37,
     "metadata": {},
     "output_type": "execute_result"
    }
   ],
   "source": [
    "#Target data\n",
    "y.head()"
   ]
  },
  {
   "cell_type": "markdown",
   "id": "bdd834af",
   "metadata": {},
   "source": [
    "## Splitting the data into training and testing set"
   ]
  },
  {
   "cell_type": "code",
   "execution_count": 38,
   "id": "32eabf80",
   "metadata": {},
   "outputs": [],
   "source": [
    "from sklearn.model_selection import train_test_split\n",
    "X_train,X_test,Y_train,Y_test=train_test_split(X,y,random_state=42,test_size=0.2)"
   ]
  },
  {
   "cell_type": "markdown",
   "id": "b743366d",
   "metadata": {},
   "source": [
    "# Logistic Model"
   ]
  },
  {
   "cell_type": "code",
   "execution_count": 39,
   "id": "d86b1fa3",
   "metadata": {},
   "outputs": [],
   "source": [
    "#importing Model Checking Metrices\n",
    "from sklearn.metrics import accuracy_score,confusion_matrix"
   ]
  },
  {
   "cell_type": "code",
   "execution_count": 40,
   "id": "6d66c8ec",
   "metadata": {},
   "outputs": [],
   "source": [
    "from sklearn.linear_model import LogisticRegression"
   ]
  },
  {
   "cell_type": "code",
   "execution_count": 41,
   "id": "c5bf4a32",
   "metadata": {},
   "outputs": [],
   "source": [
    "logit_model=LogisticRegression(max_iter=5000)\n",
    "logit_model=logit_model.fit(X_train,Y_train)\n",
    "y_pred_logit=logit_model.predict(X_test)"
   ]
  },
  {
   "cell_type": "code",
   "execution_count": 42,
   "id": "9fb12fe8",
   "metadata": {},
   "outputs": [
    {
     "data": {
      "text/plain": [
       "array([[10,  0,  0],\n",
       "       [ 0,  9,  0],\n",
       "       [ 0,  0, 11]], dtype=int64)"
      ]
     },
     "execution_count": 42,
     "metadata": {},
     "output_type": "execute_result"
    }
   ],
   "source": [
    "confusion_matrix(Y_test,y_pred_logit)"
   ]
  },
  {
   "cell_type": "code",
   "execution_count": 43,
   "id": "6457eb33",
   "metadata": {},
   "outputs": [
    {
     "data": {
      "text/plain": [
       "1.0"
      ]
     },
     "execution_count": 43,
     "metadata": {},
     "output_type": "execute_result"
    }
   ],
   "source": [
    "a1=accuracy_score(Y_test,y_pred_logit)\n",
    "a1"
   ]
  },
  {
   "cell_type": "code",
   "execution_count": 44,
   "id": "d3af225c",
   "metadata": {},
   "outputs": [],
   "source": [
    "#The accuracy is obtained as 1 on logistic regression model"
   ]
  },
  {
   "cell_type": "markdown",
   "id": "96e9aca9",
   "metadata": {},
   "source": [
    "# kNN Model"
   ]
  },
  {
   "cell_type": "code",
   "execution_count": 45,
   "id": "3d704aa1",
   "metadata": {},
   "outputs": [],
   "source": [
    "from sklearn.neighbors import KNeighborsClassifier"
   ]
  },
  {
   "cell_type": "code",
   "execution_count": 46,
   "id": "0fb1e070",
   "metadata": {},
   "outputs": [],
   "source": [
    "metric_k=[]\n",
    "neighbors=range(3,18)\n",
    "for k in neighbors:\n",
    "    classifier=KNeighborsClassifier(n_neighbors=k)\n",
    "    classifier=classifier.fit(X_train,Y_train)\n",
    "    y_pred_kNN=classifier.predict(X_test)\n",
    "    acc=accuracy_score(Y_test,y_pred_kNN)\n",
    "    metric_k.append(acc)"
   ]
  },
  {
   "cell_type": "code",
   "execution_count": 47,
   "id": "024d099a",
   "metadata": {},
   "outputs": [
    {
     "data": {
      "image/png": "[encoded data removed]",
      "text/plain": [
       "<Figure size 432x288 with 1 Axes>"
      ]
     },
     "metadata": {
      "needs_background": "light"
     },
     "output_type": "display_data"
    }
   ],
   "source": [
    "plt.plot(neighbors,metric_k,'o-')\n",
    "plt.xlabel('K values')\n",
    "plt.ylabel('accuracy')\n",
    "plt.grid()"
   ]
  },
  {
   "cell_type": "markdown",
   "id": "42a8de7d",
   "metadata": {},
   "source": [
    "### Maximum accuracy is obtained at k=4\n"
   ]
  },
  {
   "cell_type": "code",
   "execution_count": 48,
   "id": "98701a39",
   "metadata": {},
   "outputs": [],
   "source": [
    "kNN=KNeighborsClassifier(n_neighbors=4)\n",
    "kNN=kNN.fit(X_train,Y_train)\n",
    "y_pred_kNN=kNN.predict(X_test)"
   ]
  },
  {
   "cell_type": "code",
   "execution_count": 49,
   "id": "306d9fe5",
   "metadata": {},
   "outputs": [
    {
     "data": {
      "text/plain": [
       "1.0"
      ]
     },
     "execution_count": 49,
     "metadata": {},
     "output_type": "execute_result"
    }
   ],
   "source": [
    "a2=accuracy_score(Y_test,y_pred_kNN)\n",
    "a2"
   ]
  },
  {
   "cell_type": "code",
   "execution_count": 50,
   "id": "3470a3f7",
   "metadata": {},
   "outputs": [
    {
     "data": {
      "text/plain": [
       "array([[10,  0,  0],\n",
       "       [ 0,  9,  0],\n",
       "       [ 0,  0, 11]], dtype=int64)"
      ]
     },
     "execution_count": 50,
     "metadata": {},
     "output_type": "execute_result"
    }
   ],
   "source": [
    "confusion_matrix(Y_test,y_pred_kNN)"
   ]
  },
  {
   "cell_type": "code",
   "execution_count": 51,
   "id": "72c858f3",
   "metadata": {},
   "outputs": [],
   "source": [
    "#The accuracy is obtained as 1 in kNN model"
   ]
  },
  {
   "cell_type": "markdown",
   "id": "07d73b58",
   "metadata": {},
   "source": [
    "# SVC MODEL (Support Vector Classifier Model)"
   ]
  },
  {
   "cell_type": "code",
   "execution_count": 52,
   "id": "b99ec11a",
   "metadata": {},
   "outputs": [],
   "source": [
    "from sklearn.svm import SVC"
   ]
  },
  {
   "cell_type": "markdown",
   "id": "8bfef38d",
   "metadata": {},
   "source": [
    "## SVC MODEL  with linear Kernel"
   ]
  },
  {
   "cell_type": "code",
   "execution_count": 53,
   "id": "fb3f179a",
   "metadata": {},
   "outputs": [],
   "source": [
    "clf_svm=SVC(kernel='linear')\n",
    "clf_svm=clf_svm.fit(X_train,Y_train)\n",
    "y_pred_svm=clf_svm.predict(X_test)"
   ]
  },
  {
   "cell_type": "code",
   "execution_count": 54,
   "id": "770953bb",
   "metadata": {},
   "outputs": [
    {
     "data": {
      "text/plain": [
       "array([[10,  0,  0],\n",
       "       [ 0,  9,  0],\n",
       "       [ 0,  0, 11]], dtype=int64)"
      ]
     },
     "execution_count": 54,
     "metadata": {},
     "output_type": "execute_result"
    }
   ],
   "source": [
    "confusion_matrix(Y_test,y_pred_svm)"
   ]
  },
  {
   "cell_type": "code",
   "execution_count": 55,
   "id": "ba6c7493",
   "metadata": {},
   "outputs": [
    {
     "data": {
      "text/plain": [
       "1.0"
      ]
     },
     "execution_count": 55,
     "metadata": {},
     "output_type": "execute_result"
    }
   ],
   "source": [
    "a3=accuracy_score(Y_test,y_pred_svm)\n",
    "a3"
   ]
  },
  {
   "cell_type": "code",
   "execution_count": 56,
   "id": "c6e53d62",
   "metadata": {},
   "outputs": [],
   "source": [
    "#The accuracy is obtained as 1 in SVC model with linear kernel"
   ]
  },
  {
   "cell_type": "markdown",
   "id": "19523e20",
   "metadata": {},
   "source": [
    "## SVC MODEL With  RBF (Radial basis function)  Kernel"
   ]
  },
  {
   "cell_type": "code",
   "execution_count": 57,
   "id": "5ff0ab1e",
   "metadata": {},
   "outputs": [],
   "source": [
    "clf_svm2=SVC(kernel='rbf')\n",
    "clf_svm2=clf_svm2.fit(X_train,Y_train)\n",
    "y_pred_svm2=clf_svm2.predict(X_test)"
   ]
  },
  {
   "cell_type": "code",
   "execution_count": 58,
   "id": "47c0ebb1",
   "metadata": {},
   "outputs": [
    {
     "data": {
      "text/plain": [
       "array([[10,  0,  0],\n",
       "       [ 0,  9,  0],\n",
       "       [ 0,  0, 11]], dtype=int64)"
      ]
     },
     "execution_count": 58,
     "metadata": {},
     "output_type": "execute_result"
    }
   ],
   "source": [
    "confusion_matrix(Y_test,y_pred_svm2)"
   ]
  },
  {
   "cell_type": "code",
   "execution_count": 59,
   "id": "0874309c",
   "metadata": {},
   "outputs": [
    {
     "data": {
      "text/plain": [
       "1.0"
      ]
     },
     "execution_count": 59,
     "metadata": {},
     "output_type": "execute_result"
    }
   ],
   "source": [
    "a4=accuracy_score(Y_test,y_pred_svm2)\n",
    "a4"
   ]
  },
  {
   "cell_type": "code",
   "execution_count": 60,
   "id": "58c353f1",
   "metadata": {},
   "outputs": [],
   "source": [
    "#The accuracy is obtained as 1 in SVC model with rbf kernel\n"
   ]
  },
  {
   "cell_type": "markdown",
   "id": "36c4b3dc",
   "metadata": {},
   "source": [
    "# Decision Tree Model"
   ]
  },
  {
   "cell_type": "code",
   "execution_count": 61,
   "id": "4ebbef3a",
   "metadata": {},
   "outputs": [],
   "source": [
    "from sklearn.tree import DecisionTreeClassifier"
   ]
  },
  {
   "cell_type": "code",
   "execution_count": 62,
   "id": "5301eea2",
   "metadata": {},
   "outputs": [],
   "source": [
    "dt_clf=DecisionTreeClassifier()\n",
    "df_clf=dt_clf.fit(X_train,Y_train)\n",
    "Y_pred_dt=dt_clf.predict(X_test)"
   ]
  },
  {
   "cell_type": "code",
   "execution_count": 63,
   "id": "577ed4c5",
   "metadata": {},
   "outputs": [
    {
     "data": {
      "text/plain": [
       "array([[10,  0,  0],\n",
       "       [ 0,  9,  0],\n",
       "       [ 0,  0, 11]], dtype=int64)"
      ]
     },
     "execution_count": 63,
     "metadata": {},
     "output_type": "execute_result"
    }
   ],
   "source": [
    "confusion_matrix(Y_test,Y_pred_dt)"
   ]
  },
  {
   "cell_type": "code",
   "execution_count": 64,
   "id": "f0691b01",
   "metadata": {},
   "outputs": [
    {
     "data": {
      "text/plain": [
       "1.0"
      ]
     },
     "execution_count": 64,
     "metadata": {},
     "output_type": "execute_result"
    }
   ],
   "source": [
    "a5=accuracy_score(Y_test,Y_pred_dt)\n",
    "a5"
   ]
  },
  {
   "cell_type": "code",
   "execution_count": 65,
   "id": "f2838400",
   "metadata": {},
   "outputs": [],
   "source": [
    "#The accuracy is obtained as 1 in Decesion Tree model"
   ]
  },
  {
   "cell_type": "markdown",
   "id": "07bf224d",
   "metadata": {},
   "source": [
    "# Random Forest Model"
   ]
  },
  {
   "cell_type": "code",
   "execution_count": 66,
   "id": "fc18bdf9",
   "metadata": {},
   "outputs": [],
   "source": [
    "from sklearn.ensemble import RandomForestClassifier"
   ]
  },
  {
   "cell_type": "code",
   "execution_count": 67,
   "id": "830adf8c",
   "metadata": {},
   "outputs": [],
   "source": [
    "rf_clf=RandomForestClassifier()\n",
    "rf_clf=rf_clf.fit(X_train,Y_train)\n",
    "y_pred_clf=rf_clf.predict(X_test)\n"
   ]
  },
  {
   "cell_type": "code",
   "execution_count": 68,
   "id": "de6fe640",
   "metadata": {},
   "outputs": [
    {
     "data": {
      "text/plain": [
       "array([[10,  0,  0],\n",
       "       [ 0,  9,  0],\n",
       "       [ 0,  0, 11]], dtype=int64)"
      ]
     },
     "execution_count": 68,
     "metadata": {},
     "output_type": "execute_result"
    }
   ],
   "source": [
    "confusion_matrix(Y_test,y_pred_clf)"
   ]
  },
  {
   "cell_type": "code",
   "execution_count": 69,
   "id": "3be74ae4",
   "metadata": {},
   "outputs": [
    {
     "data": {
      "text/plain": [
       "1.0"
      ]
     },
     "execution_count": 69,
     "metadata": {},
     "output_type": "execute_result"
    }
   ],
   "source": [
    "a6=accuracy_score(Y_test,y_pred_clf)\n",
    "a6"
   ]
  },
  {
   "cell_type": "code",
   "execution_count": 70,
   "id": "a5629e9a",
   "metadata": {},
   "outputs": [],
   "source": [
    "#The accuracy is obtained as 1 in Random Forest model"
   ]
  },
  {
   "cell_type": "markdown",
   "id": "0d01128c",
   "metadata": {},
   "source": [
    "\n",
    "## The accuracy scores obtained are tabulated below"
   ]
  },
  {
   "cell_type": "code",
   "execution_count": 71,
   "id": "379703d7",
   "metadata": {},
   "outputs": [
    {
     "data": {
      "text/html": [
       "<div>\n",
       "<style scoped>\n",
       "    .dataframe tbody tr th:only-of-type {\n",
       "        vertical-align: middle;\n",
       "    }\n",
       "\n",
       "    .dataframe tbody tr th {\n",
       "        vertical-align: top;\n",
       "    }\n",
       "\n",
       "    .dataframe thead th {\n",
       "        text-align: right;\n",
       "    }\n",
       "</style>\n",
       "<table border=\"1\" class=\"dataframe\">\n",
       "  <thead>\n",
       "    <tr style=\"text-align: right;\">\n",
       "      <th></th>\n",
       "      <th>Model Name</th>\n",
       "      <th>Accuracy score</th>\n",
       "    </tr>\n",
       "  </thead>\n",
       "  <tbody>\n",
       "    <tr>\n",
       "      <th>0</th>\n",
       "      <td>Logistic</td>\n",
       "      <td>1.0</td>\n",
       "    </tr>\n",
       "    <tr>\n",
       "      <th>1</th>\n",
       "      <td>kNN</td>\n",
       "      <td>1.0</td>\n",
       "    </tr>\n",
       "    <tr>\n",
       "      <th>2</th>\n",
       "      <td>SVC-LInear</td>\n",
       "      <td>1.0</td>\n",
       "    </tr>\n",
       "    <tr>\n",
       "      <th>3</th>\n",
       "      <td>SVC-rbf</td>\n",
       "      <td>1.0</td>\n",
       "    </tr>\n",
       "    <tr>\n",
       "      <th>4</th>\n",
       "      <td>Decision Tree</td>\n",
       "      <td>1.0</td>\n",
       "    </tr>\n",
       "    <tr>\n",
       "      <th>5</th>\n",
       "      <td>Random Forest</td>\n",
       "      <td>1.0</td>\n",
       "    </tr>\n",
       "  </tbody>\n",
       "</table>\n",
       "</div>"
      ],
      "text/plain": [
       "      Model Name  Accuracy score\n",
       "0       Logistic             1.0\n",
       "1            kNN             1.0\n",
       "2     SVC-LInear             1.0\n",
       "3        SVC-rbf             1.0\n",
       "4  Decision Tree             1.0\n",
       "5  Random Forest             1.0"
      ]
     },
     "execution_count": 71,
     "metadata": {},
     "output_type": "execute_result"
    }
   ],
   "source": [
    "#Creating a dataframe with all accuracy scores\n",
    "accuracy={'Model Name':['Logistic','kNN','SVC-LInear','SVC-rbf','Decision Tree','Random Forest'],'Accuracy score':[a1,a2,a3,a4,a5,a6]}\n",
    "df=pd.DataFrame(accuracy)\n",
    "df"
   ]
  },
  {
   "cell_type": "markdown",
   "id": "ed69fbdd",
   "metadata": {},
   "source": [
    "### Accuracy score is obtained as one for all the 6 models. So all the models are equally good. In this case the data set is small, if the data set is larger we can get a better under understanding of models. As a next step  scaling can be done to check the performance of models under fature scaled condition and to avoid weightage to large value points"
   ]
  },
  {
   "cell_type": "markdown",
   "id": "286caf97",
   "metadata": {},
   "source": [
    "***"
   ]
  },
  {
   "cell_type": "markdown",
   "id": "eefe0efa",
   "metadata": {},
   "source": [
    "# Standard scaling the features and finding the accuracy"
   ]
  },
  {
   "cell_type": "code",
   "execution_count": 72,
   "id": "d6343cc1",
   "metadata": {},
   "outputs": [],
   "source": [
    "from sklearn import preprocessing\n",
    "std_scl=preprocessing.StandardScaler()"
   ]
  },
  {
   "cell_type": "code",
   "execution_count": 73,
   "id": "8cf6424c",
   "metadata": {},
   "outputs": [],
   "source": [
    "x1=std_scl.fit_transform(X)"
   ]
  },
  {
   "cell_type": "code",
   "execution_count": 74,
   "id": "4699d94b",
   "metadata": {},
   "outputs": [
    {
     "data": {
      "text/plain": [
       "numpy.ndarray"
      ]
     },
     "execution_count": 74,
     "metadata": {},
     "output_type": "execute_result"
    }
   ],
   "source": [
    "type(x1)"
   ]
  },
  {
   "cell_type": "code",
   "execution_count": 75,
   "id": "abb03db3",
   "metadata": {},
   "outputs": [],
   "source": [
    "x1=pd.DataFrame(x1,columns=['SL','SW','PL','PW'])"
   ]
  },
  {
   "cell_type": "code",
   "execution_count": 76,
   "id": "b1aa3c4d",
   "metadata": {},
   "outputs": [
    {
     "data": {
      "text/html": [
       "<div>\n",
       "<style scoped>\n",
       "    .dataframe tbody tr th:only-of-type {\n",
       "        vertical-align: middle;\n",
       "    }\n",
       "\n",
       "    .dataframe tbody tr th {\n",
       "        vertical-align: top;\n",
       "    }\n",
       "\n",
       "    .dataframe thead th {\n",
       "        text-align: right;\n",
       "    }\n",
       "</style>\n",
       "<table border=\"1\" class=\"dataframe\">\n",
       "  <thead>\n",
       "    <tr style=\"text-align: right;\">\n",
       "      <th></th>\n",
       "      <th>SL</th>\n",
       "      <th>SW</th>\n",
       "      <th>PL</th>\n",
       "      <th>PW</th>\n",
       "    </tr>\n",
       "  </thead>\n",
       "  <tbody>\n",
       "    <tr>\n",
       "      <th>0</th>\n",
       "      <td>-0.934811</td>\n",
       "      <td>1.071869</td>\n",
       "      <td>-1.380791</td>\n",
       "      <td>-1.312977</td>\n",
       "    </tr>\n",
       "    <tr>\n",
       "      <th>1</th>\n",
       "      <td>-1.182990</td>\n",
       "      <td>-0.117261</td>\n",
       "      <td>-1.380791</td>\n",
       "      <td>-1.312977</td>\n",
       "    </tr>\n",
       "    <tr>\n",
       "      <th>2</th>\n",
       "      <td>-0.066181</td>\n",
       "      <td>0.358391</td>\n",
       "      <td>-1.438808</td>\n",
       "      <td>-1.312977</td>\n",
       "    </tr>\n",
       "    <tr>\n",
       "      <th>3</th>\n",
       "      <td>-1.555260</td>\n",
       "      <td>0.120565</td>\n",
       "      <td>-1.322775</td>\n",
       "      <td>-1.312977</td>\n",
       "    </tr>\n",
       "    <tr>\n",
       "      <th>4</th>\n",
       "      <td>-1.058900</td>\n",
       "      <td>1.309695</td>\n",
       "      <td>-1.380791</td>\n",
       "      <td>-1.312977</td>\n",
       "    </tr>\n",
       "  </tbody>\n",
       "</table>\n",
       "</div>"
      ],
      "text/plain": [
       "         SL        SW        PL        PW\n",
       "0 -0.934811  1.071869 -1.380791 -1.312977\n",
       "1 -1.182990 -0.117261 -1.380791 -1.312977\n",
       "2 -0.066181  0.358391 -1.438808 -1.312977\n",
       "3 -1.555260  0.120565 -1.322775 -1.312977\n",
       "4 -1.058900  1.309695 -1.380791 -1.312977"
      ]
     },
     "execution_count": 76,
     "metadata": {},
     "output_type": "execute_result"
    }
   ],
   "source": [
    "#The features data set after standard scaling\n",
    "x1.head()"
   ]
  },
  {
   "cell_type": "code",
   "execution_count": 77,
   "id": "21326642",
   "metadata": {},
   "outputs": [],
   "source": [
    "#Splitting the data into training and testing set after scaling\n",
    "from sklearn.model_selection import train_test_split\n",
    "X_train,X_test,Y_train,Y_test=train_test_split(x1,y,random_state=42,test_size=0.2)"
   ]
  },
  {
   "cell_type": "markdown",
   "id": "b79fdefa",
   "metadata": {},
   "source": [
    "## Logistic Model-Standard scaled"
   ]
  },
  {
   "cell_type": "code",
   "execution_count": 78,
   "id": "88320d0d",
   "metadata": {},
   "outputs": [],
   "source": [
    "logit_model2=LogisticRegression()\n",
    "logit_model2=logit_model2.fit(X_train,Y_train)\n",
    "y_pred_logit2=logit_model2.predict(X_test)"
   ]
  },
  {
   "cell_type": "code",
   "execution_count": 79,
   "id": "4c99bb9e",
   "metadata": {},
   "outputs": [
    {
     "data": {
      "text/plain": [
       "array([[10,  0,  0],\n",
       "       [ 0,  8,  1],\n",
       "       [ 0,  0, 11]], dtype=int64)"
      ]
     },
     "execution_count": 79,
     "metadata": {},
     "output_type": "execute_result"
    }
   ],
   "source": [
    "confusion_matrix(Y_test,y_pred_logit2)"
   ]
  },
  {
   "cell_type": "code",
   "execution_count": 80,
   "id": "e46f81ef",
   "metadata": {},
   "outputs": [
    {
     "data": {
      "text/plain": [
       "0.9666666666666667"
      ]
     },
     "execution_count": 80,
     "metadata": {},
     "output_type": "execute_result"
    }
   ],
   "source": [
    "a7=accuracy_score(Y_test,y_pred_logit2)\n",
    "a7"
   ]
  },
  {
   "cell_type": "code",
   "execution_count": 81,
   "id": "5b3b8f91",
   "metadata": {},
   "outputs": [],
   "source": [
    "#The accuracy score is obtained as 0.9667 after scaling in logistic model"
   ]
  },
  {
   "cell_type": "markdown",
   "id": "9b1b76ac",
   "metadata": {},
   "source": [
    "## kNN Model-Standard scaled"
   ]
  },
  {
   "cell_type": "code",
   "execution_count": 82,
   "id": "506ee824",
   "metadata": {},
   "outputs": [],
   "source": [
    "metric_k=[]\n",
    "neighbors=range(3,18)\n",
    "for k in neighbors:\n",
    "    classifier2=KNeighborsClassifier(n_neighbors=k)\n",
    "    classifier2=classifier2.fit(X_train,Y_train)\n",
    "    y_pred_kNN3=classifier2.predict(X_test)\n",
    "    acc=accuracy_score(Y_test,y_pred_kNN3)\n",
    "    metric_k.append(acc)"
   ]
  },
  {
   "cell_type": "code",
   "execution_count": 83,
   "id": "3d4eb07e",
   "metadata": {},
   "outputs": [
    {
     "data": {
      "image/png": "[encoded data removed]",
      "text/plain": [
       "<Figure size 432x288 with 1 Axes>"
      ]
     },
     "metadata": {
      "needs_background": "light"
     },
     "output_type": "display_data"
    }
   ],
   "source": [
    "plt.plot(neighbors,metric_k,'o-')\n",
    "plt.xlabel('K values')\n",
    "plt.ylabel('accuracy')\n",
    "plt.grid()"
   ]
  },
  {
   "cell_type": "code",
   "execution_count": 84,
   "id": "31d1b981",
   "metadata": {},
   "outputs": [],
   "source": [
    "#Finding Accuarcy at K=2\n",
    "kNN2=KNeighborsClassifier(n_neighbors=2)\n",
    "kNN2=kNN2.fit(X_train,Y_train)\n",
    "y_pred_kNN4=kNN2.predict(X_test)"
   ]
  },
  {
   "cell_type": "code",
   "execution_count": 85,
   "id": "81acc8a6",
   "metadata": {},
   "outputs": [
    {
     "data": {
      "text/plain": [
       "array([[10,  0,  0],\n",
       "       [ 0,  9,  0],\n",
       "       [ 0,  0, 11]], dtype=int64)"
      ]
     },
     "execution_count": 85,
     "metadata": {},
     "output_type": "execute_result"
    }
   ],
   "source": [
    "confusion_matrix(Y_test,y_pred_kNN4)"
   ]
  },
  {
   "cell_type": "code",
   "execution_count": 86,
   "id": "0221d141",
   "metadata": {},
   "outputs": [
    {
     "data": {
      "text/plain": [
       "1.0"
      ]
     },
     "execution_count": 86,
     "metadata": {},
     "output_type": "execute_result"
    }
   ],
   "source": [
    "a8=accuracy_score(Y_test,y_pred_kNN4)\n",
    "a8"
   ]
  },
  {
   "cell_type": "code",
   "execution_count": 87,
   "id": "e64dc8f6",
   "metadata": {},
   "outputs": [],
   "source": [
    "#The accuracy score is obtained as 1 after scaling in kNN Model"
   ]
  },
  {
   "cell_type": "markdown",
   "id": "c0b42c09",
   "metadata": {},
   "source": [
    "## SVC Model Linear Kernel-Standard scaled"
   ]
  },
  {
   "cell_type": "code",
   "execution_count": 88,
   "id": "ee8588a5",
   "metadata": {},
   "outputs": [],
   "source": [
    "clf_svm3=SVC(kernel='linear')\n",
    "clf_svm3=clf_svm3.fit(X_train,Y_train)\n",
    "y_pred_svm3=clf_svm3.predict(X_test)"
   ]
  },
  {
   "cell_type": "code",
   "execution_count": 89,
   "id": "29cdc98a",
   "metadata": {},
   "outputs": [
    {
     "data": {
      "text/plain": [
       "array([[10,  0,  0],\n",
       "       [ 0,  8,  1],\n",
       "       [ 0,  0, 11]], dtype=int64)"
      ]
     },
     "execution_count": 89,
     "metadata": {},
     "output_type": "execute_result"
    }
   ],
   "source": [
    "confusion_matrix(Y_test,y_pred_svm3)"
   ]
  },
  {
   "cell_type": "code",
   "execution_count": 90,
   "id": "7bd80c97",
   "metadata": {},
   "outputs": [
    {
     "data": {
      "text/plain": [
       "0.9666666666666667"
      ]
     },
     "execution_count": 90,
     "metadata": {},
     "output_type": "execute_result"
    }
   ],
   "source": [
    "a9=accuracy_score(Y_test,y_pred_svm3)\n",
    "a9"
   ]
  },
  {
   "cell_type": "code",
   "execution_count": 91,
   "id": "0d3e0b58",
   "metadata": {},
   "outputs": [],
   "source": [
    "#The accuracy score is obtained as 0.9667 after scaling in SVC-Linear Model"
   ]
  },
  {
   "cell_type": "markdown",
   "id": "f5b6c231",
   "metadata": {},
   "source": [
    "## SVC Model  RBF Kernel-Standard scaled"
   ]
  },
  {
   "cell_type": "code",
   "execution_count": 92,
   "id": "1424abdb",
   "metadata": {},
   "outputs": [],
   "source": [
    "clf_svm4=SVC(kernel='rbf')\n",
    "clf_svm4=clf_svm4.fit(X_train,Y_train)\n",
    "y_pred_svm4=clf_svm4.predict(X_test)"
   ]
  },
  {
   "cell_type": "code",
   "execution_count": 93,
   "id": "d770e301",
   "metadata": {},
   "outputs": [
    {
     "data": {
      "text/plain": [
       "array([[10,  0,  0],\n",
       "       [ 0,  8,  1],\n",
       "       [ 0,  0, 11]], dtype=int64)"
      ]
     },
     "execution_count": 93,
     "metadata": {},
     "output_type": "execute_result"
    }
   ],
   "source": [
    "confusion_matrix(Y_test,y_pred_svm4)"
   ]
  },
  {
   "cell_type": "code",
   "execution_count": 94,
   "id": "8f9263d6",
   "metadata": {},
   "outputs": [
    {
     "data": {
      "text/plain": [
       "0.9666666666666667"
      ]
     },
     "execution_count": 94,
     "metadata": {},
     "output_type": "execute_result"
    }
   ],
   "source": [
    "a10=accuracy_score(Y_test,y_pred_svm4)\n",
    "a10"
   ]
  },
  {
   "cell_type": "code",
   "execution_count": 95,
   "id": "ab43cb66",
   "metadata": {},
   "outputs": [],
   "source": [
    "#The accuracy score is obtained as 0.9667 after scaling inin SVC-rbf model"
   ]
  },
  {
   "cell_type": "markdown",
   "id": "9ec05f64",
   "metadata": {},
   "source": [
    "## Decision Tree Model-Standard scaled"
   ]
  },
  {
   "cell_type": "code",
   "execution_count": 96,
   "id": "91c486ff",
   "metadata": {},
   "outputs": [],
   "source": [
    "dt_clf2=DecisionTreeClassifier()\n",
    "df_clf2=dt_clf2.fit(X_train,Y_train)\n",
    "Y_pred_dt2=dt_clf2.predict(X_test)"
   ]
  },
  {
   "cell_type": "code",
   "execution_count": 97,
   "id": "f0e522c3",
   "metadata": {},
   "outputs": [
    {
     "data": {
      "text/plain": [
       "array([[10,  0,  0],\n",
       "       [ 0,  9,  0],\n",
       "       [ 0,  0, 11]], dtype=int64)"
      ]
     },
     "execution_count": 97,
     "metadata": {},
     "output_type": "execute_result"
    }
   ],
   "source": [
    "confusion_matrix(Y_test,Y_pred_dt2)"
   ]
  },
  {
   "cell_type": "code",
   "execution_count": 98,
   "id": "a980d32d",
   "metadata": {},
   "outputs": [
    {
     "data": {
      "text/plain": [
       "1.0"
      ]
     },
     "execution_count": 98,
     "metadata": {},
     "output_type": "execute_result"
    }
   ],
   "source": [
    "a11=accuracy_score(Y_test,Y_pred_dt2)\n",
    "a11"
   ]
  },
  {
   "cell_type": "code",
   "execution_count": 99,
   "id": "c8fc0909",
   "metadata": {},
   "outputs": [],
   "source": [
    "#The accuracy score is obtained as 1 after scaling in Decision tree model"
   ]
  },
  {
   "cell_type": "markdown",
   "id": "e6eab222",
   "metadata": {},
   "source": [
    "## Random Forest Model-Standard scaled"
   ]
  },
  {
   "cell_type": "code",
   "execution_count": 100,
   "id": "7c72fe63",
   "metadata": {},
   "outputs": [],
   "source": [
    "rf_clf2=RandomForestClassifier()\n",
    "rf_clf2=rf_clf2.fit(X_train,Y_train)\n",
    "y_pred_rf2=rf_clf2.predict(X_test)"
   ]
  },
  {
   "cell_type": "code",
   "execution_count": 101,
   "id": "94ff4ad2",
   "metadata": {},
   "outputs": [
    {
     "data": {
      "text/plain": [
       "array([[10,  0,  0],\n",
       "       [ 0,  9,  0],\n",
       "       [ 0,  0, 11]], dtype=int64)"
      ]
     },
     "execution_count": 101,
     "metadata": {},
     "output_type": "execute_result"
    }
   ],
   "source": [
    "confusion_matrix(Y_test,y_pred_rf2)"
   ]
  },
  {
   "cell_type": "code",
   "execution_count": 102,
   "id": "a4438e46",
   "metadata": {},
   "outputs": [
    {
     "data": {
      "text/plain": [
       "1.0"
      ]
     },
     "execution_count": 102,
     "metadata": {},
     "output_type": "execute_result"
    }
   ],
   "source": [
    "a12=accuracy_score(Y_test,y_pred_rf2)\n",
    "a12"
   ]
  },
  {
   "cell_type": "code",
   "execution_count": 103,
   "id": "7758ce92",
   "metadata": {},
   "outputs": [],
   "source": [
    "#The accuracy score is obtained as 1 after scaling in random Forest model"
   ]
  },
  {
   "cell_type": "code",
   "execution_count": 104,
   "id": "ed99f18d",
   "metadata": {},
   "outputs": [
    {
     "data": {
      "text/html": [
       "<div>\n",
       "<style scoped>\n",
       "    .dataframe tbody tr th:only-of-type {\n",
       "        vertical-align: middle;\n",
       "    }\n",
       "\n",
       "    .dataframe tbody tr th {\n",
       "        vertical-align: top;\n",
       "    }\n",
       "\n",
       "    .dataframe thead th {\n",
       "        text-align: right;\n",
       "    }\n",
       "</style>\n",
       "<table border=\"1\" class=\"dataframe\">\n",
       "  <thead>\n",
       "    <tr style=\"text-align: right;\">\n",
       "      <th></th>\n",
       "      <th>Model Name</th>\n",
       "      <th>Accuracy score without scaling</th>\n",
       "      <th>Accuracy score with standard scaling</th>\n",
       "    </tr>\n",
       "  </thead>\n",
       "  <tbody>\n",
       "    <tr>\n",
       "      <th>0</th>\n",
       "      <td>Logistic</td>\n",
       "      <td>1.0</td>\n",
       "      <td>0.966667</td>\n",
       "    </tr>\n",
       "    <tr>\n",
       "      <th>1</th>\n",
       "      <td>kNN</td>\n",
       "      <td>1.0</td>\n",
       "      <td>1.000000</td>\n",
       "    </tr>\n",
       "    <tr>\n",
       "      <th>2</th>\n",
       "      <td>SVC-Linear</td>\n",
       "      <td>1.0</td>\n",
       "      <td>0.966667</td>\n",
       "    </tr>\n",
       "    <tr>\n",
       "      <th>3</th>\n",
       "      <td>SVC-rbf</td>\n",
       "      <td>1.0</td>\n",
       "      <td>0.966667</td>\n",
       "    </tr>\n",
       "    <tr>\n",
       "      <th>4</th>\n",
       "      <td>Decision Tree</td>\n",
       "      <td>1.0</td>\n",
       "      <td>1.000000</td>\n",
       "    </tr>\n",
       "    <tr>\n",
       "      <th>5</th>\n",
       "      <td>Random Forest</td>\n",
       "      <td>1.0</td>\n",
       "      <td>1.000000</td>\n",
       "    </tr>\n",
       "  </tbody>\n",
       "</table>\n",
       "</div>"
      ],
      "text/plain": [
       "      Model Name  Accuracy score without scaling  \\\n",
       "0       Logistic                             1.0   \n",
       "1            kNN                             1.0   \n",
       "2     SVC-Linear                             1.0   \n",
       "3        SVC-rbf                             1.0   \n",
       "4  Decision Tree                             1.0   \n",
       "5  Random Forest                             1.0   \n",
       "\n",
       "   Accuracy score with standard scaling   \n",
       "0                               0.966667  \n",
       "1                               1.000000  \n",
       "2                               0.966667  \n",
       "3                               0.966667  \n",
       "4                               1.000000  \n",
       "5                               1.000000  "
      ]
     },
     "execution_count": 104,
     "metadata": {},
     "output_type": "execute_result"
    }
   ],
   "source": [
    "#Creating a dataframe with all accuracy scores before and after scaling\n",
    "accuracy={'Model Name':['Logistic','kNN','SVC-Linear','SVC-rbf','Decision Tree','Random Forest'],'Accuracy score without scaling':[a1,a2,a3,a4,a5,a6],'Accuracy score with standard scaling ':[a7,a8,a9,a10,a11,a12]}\n",
    "df2=pd.DataFrame(accuracy)\n",
    "df2"
   ]
  },
  {
   "cell_type": "code",
   "execution_count": 105,
   "id": "87a5d88d",
   "metadata": {},
   "outputs": [],
   "source": [
    "#In The standard scaled models the scores are changed in Logistic and 2 SVC models and rest are same"
   ]
  },
  {
   "cell_type": "markdown",
   "id": "efbca516",
   "metadata": {},
   "source": [
    "***"
   ]
  },
  {
   "cell_type": "markdown",
   "id": "01abc8e0",
   "metadata": {},
   "source": [
    "# Applying Min Max Scaling in models and finding accuracy"
   ]
  },
  {
   "cell_type": "code",
   "execution_count": 106,
   "id": "50dca4a8",
   "metadata": {},
   "outputs": [],
   "source": [
    "from sklearn.preprocessing import MinMaxScaler\n",
    "min_max_scalar=preprocessing.MinMaxScaler(feature_range=(0,1))"
   ]
  },
  {
   "cell_type": "code",
   "execution_count": 107,
   "id": "e837c09b",
   "metadata": {},
   "outputs": [],
   "source": [
    "x2=min_max_scalar.fit_transform(X)"
   ]
  },
  {
   "cell_type": "code",
   "execution_count": 108,
   "id": "1f451de5",
   "metadata": {},
   "outputs": [],
   "source": [
    "x2=pd.DataFrame(x1,columns=['SL','SW','PL','PW'])"
   ]
  },
  {
   "cell_type": "code",
   "execution_count": 109,
   "id": "6e3cf4e5",
   "metadata": {},
   "outputs": [],
   "source": [
    "#Splitting the data into training and testing set\n",
    "from sklearn.model_selection import train_test_split\n",
    "X_train,X_test,Y_train,Y_test=train_test_split(x2,y,random_state=42,test_size=0.2)"
   ]
  },
  {
   "cell_type": "markdown",
   "id": "7fac76b4",
   "metadata": {},
   "source": [
    "## Logistic Model-Min Max Scaling\n"
   ]
  },
  {
   "cell_type": "code",
   "execution_count": 110,
   "id": "9f3c9364",
   "metadata": {},
   "outputs": [],
   "source": [
    "logit_model3=LogisticRegression()\n",
    "logit_model3=logit_model3.fit(X_train,Y_train)\n",
    "y_pred_logit3=logit_model3.predict(X_test)"
   ]
  },
  {
   "cell_type": "code",
   "execution_count": 111,
   "id": "a11defa6",
   "metadata": {},
   "outputs": [
    {
     "data": {
      "text/plain": [
       "array([[10,  0,  0],\n",
       "       [ 0,  8,  1],\n",
       "       [ 0,  0, 11]], dtype=int64)"
      ]
     },
     "execution_count": 111,
     "metadata": {},
     "output_type": "execute_result"
    }
   ],
   "source": [
    "confusion_matrix(Y_test,y_pred_logit3)"
   ]
  },
  {
   "cell_type": "code",
   "execution_count": 112,
   "id": "00a73f82",
   "metadata": {},
   "outputs": [
    {
     "data": {
      "text/plain": [
       "0.9666666666666667"
      ]
     },
     "execution_count": 112,
     "metadata": {},
     "output_type": "execute_result"
    }
   ],
   "source": [
    "a13=accuracy_score(Y_test,y_pred_logit3)\n",
    "a13"
   ]
  },
  {
   "cell_type": "code",
   "execution_count": 113,
   "id": "bdec55a5",
   "metadata": {},
   "outputs": [],
   "source": [
    "#The accuracy score is obtained as 0.967 after min max scaling in logistic model"
   ]
  },
  {
   "cell_type": "markdown",
   "id": "9a9e1b8a",
   "metadata": {},
   "source": [
    "## kNN Model-Min Max Scaling"
   ]
  },
  {
   "cell_type": "code",
   "execution_count": 114,
   "id": "d9b2bab5",
   "metadata": {},
   "outputs": [],
   "source": [
    "metric_k=[]\n",
    "neighbors=range(3,18)\n",
    "for k in neighbors:\n",
    "    classifier3=KNeighborsClassifier(n_neighbors=k)\n",
    "    classifier3=classifier3.fit(X_train,Y_train)\n",
    "    y_pred_kNN5=classifier3.predict(X_test)\n",
    "    acc=accuracy_score(Y_test,y_pred_kNN5)\n",
    "    metric_k.append(acc)"
   ]
  },
  {
   "cell_type": "code",
   "execution_count": 115,
   "id": "4f0c5cdc",
   "metadata": {},
   "outputs": [
    {
     "data": {
      "image/png": "[encoded data removed]",
      "text/plain": [
       "<Figure size 432x288 with 1 Axes>"
      ]
     },
     "metadata": {
      "needs_background": "light"
     },
     "output_type": "display_data"
    }
   ],
   "source": [
    "plt.plot(neighbors,metric_k,'o-')\n",
    "plt.xlabel('K values')\n",
    "plt.ylabel('accuracy')\n",
    "plt.grid()"
   ]
  },
  {
   "cell_type": "code",
   "execution_count": 116,
   "id": "bfabb3fb",
   "metadata": {},
   "outputs": [],
   "source": [
    "#Finding Accuracy at K=2\n",
    "kNN3=KNeighborsClassifier(n_neighbors=2)\n",
    "kNN3=kNN3.fit(X_train,Y_train)\n",
    "y_pred_kNN6=kNN3.predict(X_test)"
   ]
  },
  {
   "cell_type": "code",
   "execution_count": 117,
   "id": "06fc4344",
   "metadata": {},
   "outputs": [
    {
     "data": {
      "text/plain": [
       "array([[10,  0,  0],\n",
       "       [ 0,  9,  0],\n",
       "       [ 0,  0, 11]], dtype=int64)"
      ]
     },
     "execution_count": 117,
     "metadata": {},
     "output_type": "execute_result"
    }
   ],
   "source": [
    "confusion_matrix(Y_test,y_pred_kNN6)"
   ]
  },
  {
   "cell_type": "code",
   "execution_count": 118,
   "id": "e4e4486c",
   "metadata": {},
   "outputs": [
    {
     "data": {
      "text/plain": [
       "1.0"
      ]
     },
     "execution_count": 118,
     "metadata": {},
     "output_type": "execute_result"
    }
   ],
   "source": [
    "a14=accuracy_score(Y_test,y_pred_kNN6)\n",
    "a14"
   ]
  },
  {
   "cell_type": "code",
   "execution_count": 119,
   "id": "07ca5500",
   "metadata": {},
   "outputs": [],
   "source": [
    "#The accuracy score is obtained as 1 after min max scaling in kNN model"
   ]
  },
  {
   "cell_type": "markdown",
   "id": "42b9594c",
   "metadata": {},
   "source": [
    "## SVC Model Linear Kernel-Min Max scaling"
   ]
  },
  {
   "cell_type": "code",
   "execution_count": 120,
   "id": "ce639fa4",
   "metadata": {},
   "outputs": [],
   "source": [
    "clf_svm5=SVC(kernel='linear')\n",
    "clf_svm5=clf_svm5.fit(X_train,Y_train)\n",
    "y_pred_svm5=clf_svm5.predict(X_test)"
   ]
  },
  {
   "cell_type": "code",
   "execution_count": 121,
   "id": "65508d46",
   "metadata": {},
   "outputs": [
    {
     "data": {
      "text/plain": [
       "array([[10,  0,  0],\n",
       "       [ 0,  8,  1],\n",
       "       [ 0,  0, 11]], dtype=int64)"
      ]
     },
     "execution_count": 121,
     "metadata": {},
     "output_type": "execute_result"
    }
   ],
   "source": [
    "confusion_matrix(Y_test,y_pred_svm5)"
   ]
  },
  {
   "cell_type": "code",
   "execution_count": 122,
   "id": "6ecfde51",
   "metadata": {},
   "outputs": [
    {
     "data": {
      "text/plain": [
       "0.9666666666666667"
      ]
     },
     "execution_count": 122,
     "metadata": {},
     "output_type": "execute_result"
    }
   ],
   "source": [
    "a15=accuracy_score(Y_test,y_pred_svm5)\n",
    "a15"
   ]
  },
  {
   "cell_type": "code",
   "execution_count": 123,
   "id": "2e634549",
   "metadata": {},
   "outputs": [],
   "source": [
    "#The accuracy score is obtained as 0.967 after min max scaling in SVC-linear model"
   ]
  },
  {
   "cell_type": "markdown",
   "id": "225aab7a",
   "metadata": {},
   "source": [
    "## SVC Model Rbf Kernel-Min Max scaling"
   ]
  },
  {
   "cell_type": "code",
   "execution_count": 124,
   "id": "c24063a1",
   "metadata": {},
   "outputs": [],
   "source": [
    "clf_svm6=SVC(kernel='rbf')\n",
    "clf_svm6=clf_svm6.fit(X_train,Y_train)\n",
    "y_pred_svm6=clf_svm6.predict(X_test)"
   ]
  },
  {
   "cell_type": "code",
   "execution_count": 125,
   "id": "f7f85f01",
   "metadata": {},
   "outputs": [
    {
     "data": {
      "text/plain": [
       "array([[10,  0,  0],\n",
       "       [ 0,  8,  1],\n",
       "       [ 0,  0, 11]], dtype=int64)"
      ]
     },
     "execution_count": 125,
     "metadata": {},
     "output_type": "execute_result"
    }
   ],
   "source": [
    "confusion_matrix(Y_test,y_pred_svm6)"
   ]
  },
  {
   "cell_type": "code",
   "execution_count": 126,
   "id": "aaec460b",
   "metadata": {},
   "outputs": [
    {
     "data": {
      "text/plain": [
       "0.9666666666666667"
      ]
     },
     "execution_count": 126,
     "metadata": {},
     "output_type": "execute_result"
    }
   ],
   "source": [
    "a16=accuracy_score(Y_test,y_pred_svm6)\n",
    "a16"
   ]
  },
  {
   "cell_type": "code",
   "execution_count": 127,
   "id": "4fe08f3b",
   "metadata": {},
   "outputs": [],
   "source": [
    "#The accuracy score is obtained as 0.967 after min max scaling in SVC-rbf model"
   ]
  },
  {
   "cell_type": "markdown",
   "id": "a941f502",
   "metadata": {},
   "source": [
    "## Decision tree Model - Min Max Scaling"
   ]
  },
  {
   "cell_type": "code",
   "execution_count": 128,
   "id": "2c7bf557",
   "metadata": {},
   "outputs": [],
   "source": [
    "dt_clf3=DecisionTreeClassifier()\n",
    "df_clf3=dt_clf3.fit(X_train,Y_train)\n",
    "Y_pred_dt3=dt_clf3.predict(X_test)"
   ]
  },
  {
   "cell_type": "code",
   "execution_count": 129,
   "id": "65494c3d",
   "metadata": {},
   "outputs": [
    {
     "data": {
      "text/plain": [
       "array([[10,  0,  0],\n",
       "       [ 0,  9,  0],\n",
       "       [ 0,  0, 11]], dtype=int64)"
      ]
     },
     "execution_count": 129,
     "metadata": {},
     "output_type": "execute_result"
    }
   ],
   "source": [
    "confusion_matrix(Y_test,Y_pred_dt3)"
   ]
  },
  {
   "cell_type": "code",
   "execution_count": 130,
   "id": "96a2e0c7",
   "metadata": {},
   "outputs": [
    {
     "data": {
      "text/plain": [
       "1.0"
      ]
     },
     "execution_count": 130,
     "metadata": {},
     "output_type": "execute_result"
    }
   ],
   "source": [
    "a17=accuracy_score(Y_test,Y_pred_dt3)\n",
    "a17"
   ]
  },
  {
   "cell_type": "code",
   "execution_count": 131,
   "id": "6e842153",
   "metadata": {},
   "outputs": [],
   "source": [
    "#The accuracy score is obtained as 1 after min max scaling in decision tree model"
   ]
  },
  {
   "cell_type": "markdown",
   "id": "bc5d51b2",
   "metadata": {},
   "source": [
    "## Random Forest Model- Min Max Scaling"
   ]
  },
  {
   "cell_type": "code",
   "execution_count": 132,
   "id": "7a29462e",
   "metadata": {},
   "outputs": [],
   "source": [
    "rf_clf3=RandomForestClassifier()\n",
    "rf_clf3=rf_clf3.fit(X_train,Y_train)\n",
    "y_pred_rf3=rf_clf3.predict(X_test)"
   ]
  },
  {
   "cell_type": "code",
   "execution_count": 133,
   "id": "5948392d",
   "metadata": {},
   "outputs": [
    {
     "data": {
      "text/plain": [
       "array([[10,  0,  0],\n",
       "       [ 0,  9,  0],\n",
       "       [ 0,  0, 11]], dtype=int64)"
      ]
     },
     "execution_count": 133,
     "metadata": {},
     "output_type": "execute_result"
    }
   ],
   "source": [
    "confusion_matrix(Y_test,y_pred_rf3)"
   ]
  },
  {
   "cell_type": "code",
   "execution_count": 134,
   "id": "06d2fa3c",
   "metadata": {},
   "outputs": [
    {
     "data": {
      "text/plain": [
       "1.0"
      ]
     },
     "execution_count": 134,
     "metadata": {},
     "output_type": "execute_result"
    }
   ],
   "source": [
    "a18=accuracy_score(Y_test,y_pred_rf3)\n",
    "a18"
   ]
  },
  {
   "cell_type": "code",
   "execution_count": 135,
   "id": "4eb7fa0b",
   "metadata": {},
   "outputs": [],
   "source": [
    "#The accuracy score is obtained as 1 after min max scaling in random forest model"
   ]
  },
  {
   "cell_type": "code",
   "execution_count": 136,
   "id": "73ef174f",
   "metadata": {},
   "outputs": [
    {
     "data": {
      "text/html": [
       "<div>\n",
       "<style scoped>\n",
       "    .dataframe tbody tr th:only-of-type {\n",
       "        vertical-align: middle;\n",
       "    }\n",
       "\n",
       "    .dataframe tbody tr th {\n",
       "        vertical-align: top;\n",
       "    }\n",
       "\n",
       "    .dataframe thead th {\n",
       "        text-align: right;\n",
       "    }\n",
       "</style>\n",
       "<table border=\"1\" class=\"dataframe\">\n",
       "  <thead>\n",
       "    <tr style=\"text-align: right;\">\n",
       "      <th></th>\n",
       "      <th>Model Name</th>\n",
       "      <th>Accuracy score without scaling</th>\n",
       "      <th>Score after standard scaling</th>\n",
       "      <th>Score after Min max scaling</th>\n",
       "    </tr>\n",
       "  </thead>\n",
       "  <tbody>\n",
       "    <tr>\n",
       "      <th>0</th>\n",
       "      <td>Logistic</td>\n",
       "      <td>1.0</td>\n",
       "      <td>0.966667</td>\n",
       "      <td>0.966667</td>\n",
       "    </tr>\n",
       "    <tr>\n",
       "      <th>1</th>\n",
       "      <td>kNN</td>\n",
       "      <td>1.0</td>\n",
       "      <td>1.000000</td>\n",
       "      <td>1.000000</td>\n",
       "    </tr>\n",
       "    <tr>\n",
       "      <th>2</th>\n",
       "      <td>SVC-Linear</td>\n",
       "      <td>1.0</td>\n",
       "      <td>0.966667</td>\n",
       "      <td>0.966667</td>\n",
       "    </tr>\n",
       "    <tr>\n",
       "      <th>3</th>\n",
       "      <td>SVC-RBF</td>\n",
       "      <td>1.0</td>\n",
       "      <td>0.966667</td>\n",
       "      <td>0.966667</td>\n",
       "    </tr>\n",
       "    <tr>\n",
       "      <th>4</th>\n",
       "      <td>Decision Tree</td>\n",
       "      <td>1.0</td>\n",
       "      <td>1.000000</td>\n",
       "      <td>1.000000</td>\n",
       "    </tr>\n",
       "    <tr>\n",
       "      <th>5</th>\n",
       "      <td>Random Forest</td>\n",
       "      <td>1.0</td>\n",
       "      <td>1.000000</td>\n",
       "      <td>1.000000</td>\n",
       "    </tr>\n",
       "  </tbody>\n",
       "</table>\n",
       "</div>"
      ],
      "text/plain": [
       "      Model Name  Accuracy score without scaling  \\\n",
       "0       Logistic                             1.0   \n",
       "1            kNN                             1.0   \n",
       "2     SVC-Linear                             1.0   \n",
       "3        SVC-RBF                             1.0   \n",
       "4  Decision Tree                             1.0   \n",
       "5  Random Forest                             1.0   \n",
       "\n",
       "   Score after standard scaling   Score after Min max scaling   \n",
       "0                      0.966667                       0.966667  \n",
       "1                      1.000000                       1.000000  \n",
       "2                      0.966667                       0.966667  \n",
       "3                      0.966667                       0.966667  \n",
       "4                      1.000000                       1.000000  \n",
       "5                      1.000000                       1.000000  "
      ]
     },
     "execution_count": 136,
     "metadata": {},
     "output_type": "execute_result"
    }
   ],
   "source": [
    "# Creating a dataframe with all accuracy scores before and after scaling\n",
    "accuracy={'Model Name':['Logistic','kNN','SVC-Linear','SVC-RBF','Decision Tree','Random Forest'],'Accuracy score without scaling':[a1,a2,a3,a4,a5,a6],'Score after standard scaling':[a7,a8,a9,a10,a11,a12],' Score after Min max scaling ':[a13,a14,a15,a16,a17,a18]}\n",
    "df3=pd.DataFrame(accuracy)\n",
    "df3"
   ]
  },
  {
   "cell_type": "markdown",
   "id": "2ced7d02",
   "metadata": {},
   "source": [
    "### The accuracy scores are find out after standard and Min max scaling. Scaling doesnot affect the accuracy scores of kNN,Decsion tree and random Forest Models. But the scores of Logistic and SVC models gives slightly lower values after scaling. Generally the scores are higher in all models. So all the models are performing equally good in 20% test size conditions "
   ]
  },
  {
   "cell_type": "markdown",
   "id": "abe635c5",
   "metadata": {},
   "source": [
    "## Cross validation is to be done on all models to test the whole data set and to find out any bias is there in test sampling"
   ]
  },
  {
   "cell_type": "markdown",
   "id": "258c1e02",
   "metadata": {},
   "source": [
    "# Cross Validation"
   ]
  },
  {
   "cell_type": "code",
   "execution_count": 137,
   "id": "c92d0490",
   "metadata": {},
   "outputs": [],
   "source": [
    "#Creating Test train split in the data after scaling\n",
    "from sklearn.model_selection import train_test_split\n",
    "X_train,X_test,Y_train,Y_test=train_test_split(X,y,random_state=42,test_size=0.2)"
   ]
  },
  {
   "cell_type": "markdown",
   "id": "9fd08404",
   "metadata": {},
   "source": [
    "## Cross validation is done to better understand the whole dataset instead of doing the calculation in a 20%  test size"
   ]
  },
  {
   "cell_type": "code",
   "execution_count": 138,
   "id": "9c32982a",
   "metadata": {},
   "outputs": [],
   "source": [
    "from sklearn.model_selection import cross_validate"
   ]
  },
  {
   "cell_type": "markdown",
   "id": "2cbf30c5",
   "metadata": {},
   "source": [
    "## Logistic Model-Cross Validation"
   ]
  },
  {
   "cell_type": "code",
   "execution_count": 139,
   "id": "324247e5",
   "metadata": {},
   "outputs": [
    {
     "data": {
      "text/plain": [
       "0.9466666666666667"
      ]
     },
     "execution_count": 139,
     "metadata": {},
     "output_type": "execute_result"
    }
   ],
   "source": [
    "from sklearn.model_selection import cross_validate\n",
    "cvs_lr=cross_validate(logit_model,X,y,cv=5)\n",
    "c1=cvs_lr['test_score'].mean()\n",
    "c1"
   ]
  },
  {
   "cell_type": "markdown",
   "id": "4711af0e",
   "metadata": {},
   "source": [
    "## kNN Model Cross-Validation"
   ]
  },
  {
   "cell_type": "code",
   "execution_count": 140,
   "id": "debdaa77",
   "metadata": {},
   "outputs": [
    {
     "data": {
      "text/plain": [
       "0.9666666666666668"
      ]
     },
     "execution_count": 140,
     "metadata": {},
     "output_type": "execute_result"
    }
   ],
   "source": [
    "cvs_knn=cross_validate(kNN,X,y,cv=5)\n",
    "c2=cvs_knn['test_score'].mean()\n",
    "c2"
   ]
  },
  {
   "cell_type": "markdown",
   "id": "edd61ef7",
   "metadata": {},
   "source": [
    "## SVC Model  Linear kernel-Cross Validation"
   ]
  },
  {
   "cell_type": "code",
   "execution_count": 141,
   "id": "2a2509de",
   "metadata": {},
   "outputs": [
    {
     "data": {
      "text/plain": [
       "0.9600000000000002"
      ]
     },
     "execution_count": 141,
     "metadata": {},
     "output_type": "execute_result"
    }
   ],
   "source": [
    "cvs_svm=cross_validate(clf_svm,X,y,cv=5)\n",
    "c3=cvs_svm['test_score'].mean()\n",
    "c3"
   ]
  },
  {
   "cell_type": "markdown",
   "id": "0f928eb8",
   "metadata": {},
   "source": [
    "## SVC Model RBF kernel-Cross validation"
   ]
  },
  {
   "cell_type": "code",
   "execution_count": 142,
   "id": "94cf316f",
   "metadata": {},
   "outputs": [
    {
     "data": {
      "text/plain": [
       "0.9400000000000001"
      ]
     },
     "execution_count": 142,
     "metadata": {},
     "output_type": "execute_result"
    }
   ],
   "source": [
    "cvs_svm=cross_validate(clf_svm2,X,y,cv=5)\n",
    "c4=cvs_svm['test_score'].mean()\n",
    "c4"
   ]
  },
  {
   "cell_type": "markdown",
   "id": "8f24077b",
   "metadata": {},
   "source": [
    "## Decision Tree Model-Cross validation"
   ]
  },
  {
   "cell_type": "code",
   "execution_count": 143,
   "id": "977f908c",
   "metadata": {},
   "outputs": [
    {
     "data": {
      "text/plain": [
       "0.9533333333333334"
      ]
     },
     "execution_count": 143,
     "metadata": {},
     "output_type": "execute_result"
    }
   ],
   "source": [
    "cvs_dt=cross_validate(dt_clf,X,y,cv=5)\n",
    "c5=cvs_dt['test_score'].mean()\n",
    "c5"
   ]
  },
  {
   "cell_type": "markdown",
   "id": "78929123",
   "metadata": {},
   "source": [
    "## Random Forest Model-Cross validation"
   ]
  },
  {
   "cell_type": "code",
   "execution_count": 144,
   "id": "96886c0b",
   "metadata": {},
   "outputs": [
    {
     "data": {
      "text/plain": [
       "0.9666666666666668"
      ]
     },
     "execution_count": 144,
     "metadata": {},
     "output_type": "execute_result"
    }
   ],
   "source": [
    "cvs_rf=cross_validate(rf_clf,X,y,cv=5)\n",
    "c6=cvs_rf['test_score'].mean()\n",
    "c6"
   ]
  },
  {
   "cell_type": "code",
   "execution_count": 145,
   "id": "fde13ae0",
   "metadata": {},
   "outputs": [
    {
     "data": {
      "text/html": [
       "<div>\n",
       "<style scoped>\n",
       "    .dataframe tbody tr th:only-of-type {\n",
       "        vertical-align: middle;\n",
       "    }\n",
       "\n",
       "    .dataframe tbody tr th {\n",
       "        vertical-align: top;\n",
       "    }\n",
       "\n",
       "    .dataframe thead th {\n",
       "        text-align: right;\n",
       "    }\n",
       "</style>\n",
       "<table border=\"1\" class=\"dataframe\">\n",
       "  <thead>\n",
       "    <tr style=\"text-align: right;\">\n",
       "      <th></th>\n",
       "      <th>Model Name</th>\n",
       "      <th>Accuracy score</th>\n",
       "      <th>Cross validation Score</th>\n",
       "    </tr>\n",
       "  </thead>\n",
       "  <tbody>\n",
       "    <tr>\n",
       "      <th>0</th>\n",
       "      <td>Logistic</td>\n",
       "      <td>1.0</td>\n",
       "      <td>0.946667</td>\n",
       "    </tr>\n",
       "    <tr>\n",
       "      <th>1</th>\n",
       "      <td>kNN</td>\n",
       "      <td>1.0</td>\n",
       "      <td>0.966667</td>\n",
       "    </tr>\n",
       "    <tr>\n",
       "      <th>2</th>\n",
       "      <td>SVC-Linear</td>\n",
       "      <td>1.0</td>\n",
       "      <td>0.960000</td>\n",
       "    </tr>\n",
       "    <tr>\n",
       "      <th>3</th>\n",
       "      <td>SVC-RBF</td>\n",
       "      <td>1.0</td>\n",
       "      <td>0.940000</td>\n",
       "    </tr>\n",
       "    <tr>\n",
       "      <th>4</th>\n",
       "      <td>Decision Tree</td>\n",
       "      <td>1.0</td>\n",
       "      <td>0.953333</td>\n",
       "    </tr>\n",
       "    <tr>\n",
       "      <th>5</th>\n",
       "      <td>Random Forest</td>\n",
       "      <td>1.0</td>\n",
       "      <td>0.966667</td>\n",
       "    </tr>\n",
       "  </tbody>\n",
       "</table>\n",
       "</div>"
      ],
      "text/plain": [
       "      Model Name  Accuracy score  Cross validation Score\n",
       "0       Logistic             1.0                0.946667\n",
       "1            kNN             1.0                0.966667\n",
       "2     SVC-Linear             1.0                0.960000\n",
       "3        SVC-RBF             1.0                0.940000\n",
       "4  Decision Tree             1.0                0.953333\n",
       "5  Random Forest             1.0                0.966667"
      ]
     },
     "execution_count": 145,
     "metadata": {},
     "output_type": "execute_result"
    }
   ],
   "source": [
    "#Creating a dataframe with all accuracy scores before and after cross valiadtion\n",
    "accuracy={'Model Name':['Logistic','kNN','SVC-Linear','SVC-RBF','Decision Tree','Random Forest'],'Accuracy score' :[a1,a2,a3,a4,a5,a6],'Cross validation Score':[c1,c2,c3,c4,c5,c6]}\n",
    "df4=pd.DataFrame(accuracy)\n",
    "df4"
   ]
  },
  {
   "cell_type": "markdown",
   "id": "ef5746ed",
   "metadata": {},
   "source": [
    "### After the cross validation of all six models and comparing it with accuarcy scores before cross validation we can say that kNN,SVC-Linear and random forest are slightly better than other models. In kNN model the best k value from the graph so it gives slightly better scores.Also SVC linear considers most data points and Random Forest is an improved version of Decison tree models. But generally all the models are performing equally good in different conditions in this data set."
   ]
  },
  {
   "cell_type": "markdown",
   "id": "e8d9df60",
   "metadata": {},
   "source": [
    "### Here the data set Considered is a small one and less complex one. Working on large datasets set will give better idea about all classification models"
   ]
  },
  {
   "cell_type": "markdown",
   "id": "a220ff99",
   "metadata": {},
   "source": [
    "***\n",
    "***"
   ]
  }
 ],
 "metadata": {
  "kernelspec": {
   "display_name": "Python 3 (ipykernel)",
   "language": "python",
   "name": "python3"
  },
  "language_info": {
   "codemirror_mode": {
    "name": "ipython",
    "version": 3
   },
   "file_extension": ".py",
   "mimetype": "text/x-python",
   "name": "python",
   "nbconvert_exporter": "python",
   "pygments_lexer": "ipython3",
   "version": "3.9.12"
  }
 },
 "nbformat": 4,
 "nbformat_minor": 5
}
